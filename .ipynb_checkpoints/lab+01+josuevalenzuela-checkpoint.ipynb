{
 "cells": [
  {
   "cell_type": "markdown",
   "metadata": {
    "deletable": true,
    "editable": true
   },
   "source": [
    "## Laboratorio 01 - Introducción a SQL\n",
    "\n",
    "#### Bienvenida\n",
    "\n",
    "Bienvenido a su primer laboratorio de Bases de datos\n",
    "\n",
    "Iniciaremos cargando la extensión de python que nos permitirá interactuar con bases de datos SQLite:"
   ]
  },
  {
   "cell_type": "code",
   "execution_count": 3,
   "metadata": {
    "collapsed": false,
    "deletable": true,
    "editable": true
   },
   "outputs": [
    {
     "name": "stdout",
     "output_type": "stream",
     "text": [
      "The sql extension is already loaded. To reload it, use:\n",
      "  %reload_ext sql\n"
     ]
    }
   ],
   "source": [
    "%load_ext sql"
   ]
  },
  {
   "cell_type": "markdown",
   "metadata": {
    "deletable": true,
    "editable": true
   },
   "source": [
    "### Ejercicio 1\n",
    "\n",
    "Iniciaremos creando una base de datos `lab01.db`:"
   ]
  },
  {
   "cell_type": "code",
   "execution_count": 4,
   "metadata": {
    "collapsed": false,
    "deletable": true,
    "editable": true
   },
   "outputs": [
    {
     "data": {
      "text/plain": [
       "'Connected: @lab01.db'"
      ]
     },
     "execution_count": 4,
     "metadata": {},
     "output_type": "execute_result"
    }
   ],
   "source": [
    "%sql sqlite:///lab01.db"
   ]
  },
  {
   "cell_type": "code",
   "execution_count": 5,
   "metadata": {
    "collapsed": false,
    "deletable": true,
    "editable": true
   },
   "outputs": [
    {
     "name": "stdout",
     "output_type": "stream",
     "text": [
      " * sqlite:///lab01.db\n",
      "(sqlite3.OperationalError) table restaurante already exists [SQL: 'CREATE TABLE restaurante (id INTEGER PRIMARY KEY, nombre VARCHAR(50) NOT NULL, direccion VARCHAR(150) NOT NULL)'] (Background on this error at: http://sqlalche.me/e/e3q8)\n"
     ]
    }
   ],
   "source": [
    "%sql CREATE TABLE restaurante (id INTEGER PRIMARY KEY, nombre VARCHAR(50) NOT NULL, direccion VARCHAR(150) NOT NULL)"
   ]
  },
  {
   "cell_type": "markdown",
   "metadata": {
    "deletable": true,
    "editable": true
   },
   "source": [
    "Puede verificar que la tabla se haya creado correctamente ejecutando un `SELECT * FROM restaurante`:"
   ]
  },
  {
   "cell_type": "code",
   "execution_count": 6,
   "metadata": {
    "collapsed": false,
    "deletable": true,
    "editable": true
   },
   "outputs": [
    {
     "name": "stdout",
     "output_type": "stream",
     "text": [
      " * sqlite:///lab01.db\n",
      "Done.\n"
     ]
    },
    {
     "data": {
      "text/html": [
       "<table>\n",
       "    <tr>\n",
       "        <th>id</th>\n",
       "        <th>nombre</th>\n",
       "        <th>direccion</th>\n",
       "    </tr>\n",
       "</table>"
      ],
      "text/plain": [
       "[]"
      ]
     },
     "execution_count": 6,
     "metadata": {},
     "output_type": "execute_result"
    }
   ],
   "source": [
    "%sql SELECT * FROM restaurante;"
   ]
  },
  {
   "cell_type": "markdown",
   "metadata": {
    "deletable": true,
    "editable": true
   },
   "source": [
    "El output de este comando debería ser el encabezado de la tabla con los atributos que le fueron especificados.\n",
    "\n",
    "A continuación escriba la instrucción DDL para crear la tabla `Cliente`:"
   ]
  },
  {
   "cell_type": "code",
   "execution_count": 7,
   "metadata": {
    "collapsed": false,
    "deletable": true,
    "editable": true
   },
   "outputs": [
    {
     "name": "stdout",
     "output_type": "stream",
     "text": [
      " * sqlite:///lab01.db\n",
      "(sqlite3.OperationalError) table Cliente already exists [SQL: 'CREATE TABLE Cliente (id INTEGER, nombre VARCHAR(50), telefono VARCHAR(15) NOT NULL)'] (Background on this error at: http://sqlalche.me/e/e3q8)\n"
     ]
    }
   ],
   "source": [
    "%sql CREATE TABLE Cliente (id INTEGER, nombre VARCHAR(50), telefono VARCHAR(15) NOT NULL)"
   ]
  },
  {
   "cell_type": "markdown",
   "metadata": {
    "deletable": true,
    "editable": true
   },
   "source": [
    "Finalmente escriba la instrucción DDL para crear la tabla `Visita`:"
   ]
  },
  {
   "cell_type": "code",
   "execution_count": 8,
   "metadata": {
    "collapsed": false,
    "deletable": true,
    "editable": true
   },
   "outputs": [
    {
     "name": "stdout",
     "output_type": "stream",
     "text": [
      " * sqlite:///lab01.db\n",
      "(sqlite3.OperationalError) table Visita already exists [SQL: 'CREATE TABLE Visita (restaurante_id INTEGER, cliente_id INTEGER, fecha_visita DATE, monto_cuenta FLOAT NOT NULL)'] (Background on this error at: http://sqlalche.me/e/e3q8)\n"
     ]
    }
   ],
   "source": [
    "%sql CREATE TABLE Visita (restaurante_id INTEGER, cliente_id INTEGER, fecha_visita DATE, monto_cuenta FLOAT NOT NULL)"
   ]
  },
  {
   "cell_type": "markdown",
   "metadata": {
    "deletable": true,
    "editable": true
   },
   "source": [
    "### Ejercicio 2\n",
    "\n",
    "Iniciaremos cargando la base de datos `flights.db` que debe encontrarse en el mismo directorio que _notebook_."
   ]
  },
  {
   "cell_type": "code",
   "execution_count": 9,
   "metadata": {
    "collapsed": false,
    "deletable": true,
    "editable": true
   },
   "outputs": [
    {
     "data": {
      "text/plain": [
       "'Connected: @flights.db'"
      ]
     },
     "execution_count": 9,
     "metadata": {},
     "output_type": "execute_result"
    }
   ],
   "source": [
    "%sql sqlite:///flights.db"
   ]
  },
  {
   "cell_type": "markdown",
   "metadata": {
    "deletable": true,
    "editable": true
   },
   "source": [
    "##### Pregunta 1: ¿Cuáles son las tablas disponibles en la base de datos?\n",
    "\n",
    "Inicie investigando, _How do I list all tables/indices contained in an SQLite database?_ https://www.sqlite.org/faq.html#q7\n",
    "\n",
    "A continuación escriba el query necesario para listar las tablas disponibles en la base de datos:"
   ]
  },
  {
   "cell_type": "code",
   "execution_count": 10,
   "metadata": {
    "collapsed": false,
    "deletable": true,
    "editable": true
   },
   "outputs": [
    {
     "name": "stdout",
     "output_type": "stream",
     "text": [
      " * sqlite:///flights.db\n",
      "   sqlite:///lab01.db\n",
      "Done.\n"
     ]
    },
    {
     "data": {
      "text/html": [
       "<table>\n",
       "    <tr>\n",
       "        <th>name</th>\n",
       "    </tr>\n",
       "    <tr>\n",
       "        <td>ontime</td>\n",
       "    </tr>\n",
       "    <tr>\n",
       "        <td>airports</td>\n",
       "    </tr>\n",
       "</table>"
      ],
      "text/plain": [
       "[('ontime',), ('airports',)]"
      ]
     },
     "execution_count": 10,
     "metadata": {},
     "output_type": "execute_result"
    }
   ],
   "source": [
    "%sql SELECT name FROM sqlite_master WHERE type = \"table\""
   ]
  },
  {
   "cell_type": "markdown",
   "metadata": {
    "deletable": true,
    "editable": true
   },
   "source": [
    "Del listado de tablas observará que la tabla que registra los vuelos tiene por nombre `ontime`. Esto no necesariamente implica que los vuelos registrados en esa tabla hayan despegado o aterrizado en tiempo; es únicamente el nombre que el diseñador eligió para la tabla.\n",
    "\n",
    "Pregunta para discusión: ¿será un buen nombre? ¿Sí, no y por qué?"
   ]
  },
  {
   "cell_type": "markdown",
   "metadata": {
    "deletable": true,
    "editable": true
   },
   "source": [
    "##### Pregunta 2: ¿Cuál es el esquema de la tabla `ontime`?\n",
    "\n",
    "Inicie investigando la función la instrucción SQL no-estándar `PRAGMA` propia de SQLite, https://www.sqlite.org/pragma.html\n",
    "\n",
    "A continuación investigue el uso del _PRAGMA_ `table_info`, https://www.sqlite.org/pragma.html#pragma_table_info\n",
    "\n",
    "Finalmente escriba el query necesario para mostrar el esquema de la tabla `ontime`:"
   ]
  },
  {
   "cell_type": "code",
   "execution_count": 11,
   "metadata": {
    "collapsed": false,
    "deletable": true,
    "editable": true
   },
   "outputs": [
    {
     "name": "stdout",
     "output_type": "stream",
     "text": [
      " * sqlite:///flights.db\n",
      "   sqlite:///lab01.db\n",
      "Done.\n"
     ]
    },
    {
     "data": {
      "text/html": [
       "<table>\n",
       "    <tr>\n",
       "        <th>cid</th>\n",
       "        <th>name</th>\n",
       "        <th>type</th>\n",
       "        <th>notnull</th>\n",
       "        <th>dflt_value</th>\n",
       "        <th>pk</th>\n",
       "    </tr>\n",
       "    <tr>\n",
       "        <td>0</td>\n",
       "        <td>Year</td>\n",
       "        <td>int</td>\n",
       "        <td>0</td>\n",
       "        <td>None</td>\n",
       "        <td>0</td>\n",
       "    </tr>\n",
       "    <tr>\n",
       "        <td>1</td>\n",
       "        <td>Month</td>\n",
       "        <td>int</td>\n",
       "        <td>0</td>\n",
       "        <td>None</td>\n",
       "        <td>0</td>\n",
       "    </tr>\n",
       "    <tr>\n",
       "        <td>2</td>\n",
       "        <td>DayofMonth</td>\n",
       "        <td>int</td>\n",
       "        <td>0</td>\n",
       "        <td>None</td>\n",
       "        <td>0</td>\n",
       "    </tr>\n",
       "    <tr>\n",
       "        <td>3</td>\n",
       "        <td>DayOfWeek</td>\n",
       "        <td>int</td>\n",
       "        <td>0</td>\n",
       "        <td>None</td>\n",
       "        <td>0</td>\n",
       "    </tr>\n",
       "    <tr>\n",
       "        <td>4</td>\n",
       "        <td>DepTime</td>\n",
       "        <td>int</td>\n",
       "        <td>0</td>\n",
       "        <td>None</td>\n",
       "        <td>0</td>\n",
       "    </tr>\n",
       "    <tr>\n",
       "        <td>5</td>\n",
       "        <td>CRSDepTime</td>\n",
       "        <td>int</td>\n",
       "        <td>0</td>\n",
       "        <td>None</td>\n",
       "        <td>0</td>\n",
       "    </tr>\n",
       "    <tr>\n",
       "        <td>6</td>\n",
       "        <td>ArrTime</td>\n",
       "        <td>int</td>\n",
       "        <td>0</td>\n",
       "        <td>None</td>\n",
       "        <td>0</td>\n",
       "    </tr>\n",
       "    <tr>\n",
       "        <td>7</td>\n",
       "        <td>CRSArrTime</td>\n",
       "        <td>int</td>\n",
       "        <td>0</td>\n",
       "        <td>None</td>\n",
       "        <td>0</td>\n",
       "    </tr>\n",
       "    <tr>\n",
       "        <td>8</td>\n",
       "        <td>UniqueCarrier</td>\n",
       "        <td>varchar(5)</td>\n",
       "        <td>0</td>\n",
       "        <td>None</td>\n",
       "        <td>0</td>\n",
       "    </tr>\n",
       "    <tr>\n",
       "        <td>9</td>\n",
       "        <td>FlightNum</td>\n",
       "        <td>int</td>\n",
       "        <td>0</td>\n",
       "        <td>None</td>\n",
       "        <td>0</td>\n",
       "    </tr>\n",
       "    <tr>\n",
       "        <td>10</td>\n",
       "        <td>TailNum</td>\n",
       "        <td>varchar(8)</td>\n",
       "        <td>0</td>\n",
       "        <td>None</td>\n",
       "        <td>0</td>\n",
       "    </tr>\n",
       "    <tr>\n",
       "        <td>11</td>\n",
       "        <td>ActualElapsedTime</td>\n",
       "        <td>int</td>\n",
       "        <td>0</td>\n",
       "        <td>None</td>\n",
       "        <td>0</td>\n",
       "    </tr>\n",
       "    <tr>\n",
       "        <td>12</td>\n",
       "        <td>CRSElapsedTime</td>\n",
       "        <td>int</td>\n",
       "        <td>0</td>\n",
       "        <td>None</td>\n",
       "        <td>0</td>\n",
       "    </tr>\n",
       "    <tr>\n",
       "        <td>13</td>\n",
       "        <td>AirTime</td>\n",
       "        <td>int</td>\n",
       "        <td>0</td>\n",
       "        <td>None</td>\n",
       "        <td>0</td>\n",
       "    </tr>\n",
       "    <tr>\n",
       "        <td>14</td>\n",
       "        <td>ArrDelay</td>\n",
       "        <td>int</td>\n",
       "        <td>0</td>\n",
       "        <td>None</td>\n",
       "        <td>0</td>\n",
       "    </tr>\n",
       "    <tr>\n",
       "        <td>15</td>\n",
       "        <td>DepDelay</td>\n",
       "        <td>int</td>\n",
       "        <td>0</td>\n",
       "        <td>None</td>\n",
       "        <td>0</td>\n",
       "    </tr>\n",
       "    <tr>\n",
       "        <td>16</td>\n",
       "        <td>Origin</td>\n",
       "        <td>varchar(3)</td>\n",
       "        <td>0</td>\n",
       "        <td>None</td>\n",
       "        <td>0</td>\n",
       "    </tr>\n",
       "    <tr>\n",
       "        <td>17</td>\n",
       "        <td>Dest</td>\n",
       "        <td>varchar(3)</td>\n",
       "        <td>0</td>\n",
       "        <td>None</td>\n",
       "        <td>0</td>\n",
       "    </tr>\n",
       "    <tr>\n",
       "        <td>18</td>\n",
       "        <td>Distance</td>\n",
       "        <td>int</td>\n",
       "        <td>0</td>\n",
       "        <td>None</td>\n",
       "        <td>0</td>\n",
       "    </tr>\n",
       "    <tr>\n",
       "        <td>19</td>\n",
       "        <td>TaxiIn</td>\n",
       "        <td>int</td>\n",
       "        <td>0</td>\n",
       "        <td>None</td>\n",
       "        <td>0</td>\n",
       "    </tr>\n",
       "    <tr>\n",
       "        <td>20</td>\n",
       "        <td>TaxiOut</td>\n",
       "        <td>int</td>\n",
       "        <td>0</td>\n",
       "        <td>None</td>\n",
       "        <td>0</td>\n",
       "    </tr>\n",
       "    <tr>\n",
       "        <td>21</td>\n",
       "        <td>Cancelled</td>\n",
       "        <td>int</td>\n",
       "        <td>0</td>\n",
       "        <td>None</td>\n",
       "        <td>0</td>\n",
       "    </tr>\n",
       "    <tr>\n",
       "        <td>22</td>\n",
       "        <td>CancellationCode</td>\n",
       "        <td>varchar(1)</td>\n",
       "        <td>0</td>\n",
       "        <td>None</td>\n",
       "        <td>0</td>\n",
       "    </tr>\n",
       "    <tr>\n",
       "        <td>23</td>\n",
       "        <td>Diverted</td>\n",
       "        <td>varchar(1)</td>\n",
       "        <td>0</td>\n",
       "        <td>None</td>\n",
       "        <td>0</td>\n",
       "    </tr>\n",
       "    <tr>\n",
       "        <td>24</td>\n",
       "        <td>CarrierDelay</td>\n",
       "        <td>int</td>\n",
       "        <td>0</td>\n",
       "        <td>None</td>\n",
       "        <td>0</td>\n",
       "    </tr>\n",
       "    <tr>\n",
       "        <td>25</td>\n",
       "        <td>WeatherDelay</td>\n",
       "        <td>int</td>\n",
       "        <td>0</td>\n",
       "        <td>None</td>\n",
       "        <td>0</td>\n",
       "    </tr>\n",
       "    <tr>\n",
       "        <td>26</td>\n",
       "        <td>NASDelay</td>\n",
       "        <td>int</td>\n",
       "        <td>0</td>\n",
       "        <td>None</td>\n",
       "        <td>0</td>\n",
       "    </tr>\n",
       "    <tr>\n",
       "        <td>27</td>\n",
       "        <td>SecurityDelay</td>\n",
       "        <td>int</td>\n",
       "        <td>0</td>\n",
       "        <td>None</td>\n",
       "        <td>0</td>\n",
       "    </tr>\n",
       "    <tr>\n",
       "        <td>28</td>\n",
       "        <td>LateAircraftDelay</td>\n",
       "        <td>int</td>\n",
       "        <td>0</td>\n",
       "        <td>None</td>\n",
       "        <td>0</td>\n",
       "    </tr>\n",
       "</table>"
      ],
      "text/plain": [
       "[(0, 'Year', 'int', 0, None, 0),\n",
       " (1, 'Month', 'int', 0, None, 0),\n",
       " (2, 'DayofMonth', 'int', 0, None, 0),\n",
       " (3, 'DayOfWeek', 'int', 0, None, 0),\n",
       " (4, 'DepTime', 'int', 0, None, 0),\n",
       " (5, 'CRSDepTime', 'int', 0, None, 0),\n",
       " (6, 'ArrTime', 'int', 0, None, 0),\n",
       " (7, 'CRSArrTime', 'int', 0, None, 0),\n",
       " (8, 'UniqueCarrier', 'varchar(5)', 0, None, 0),\n",
       " (9, 'FlightNum', 'int', 0, None, 0),\n",
       " (10, 'TailNum', 'varchar(8)', 0, None, 0),\n",
       " (11, 'ActualElapsedTime', 'int', 0, None, 0),\n",
       " (12, 'CRSElapsedTime', 'int', 0, None, 0),\n",
       " (13, 'AirTime', 'int', 0, None, 0),\n",
       " (14, 'ArrDelay', 'int', 0, None, 0),\n",
       " (15, 'DepDelay', 'int', 0, None, 0),\n",
       " (16, 'Origin', 'varchar(3)', 0, None, 0),\n",
       " (17, 'Dest', 'varchar(3)', 0, None, 0),\n",
       " (18, 'Distance', 'int', 0, None, 0),\n",
       " (19, 'TaxiIn', 'int', 0, None, 0),\n",
       " (20, 'TaxiOut', 'int', 0, None, 0),\n",
       " (21, 'Cancelled', 'int', 0, None, 0),\n",
       " (22, 'CancellationCode', 'varchar(1)', 0, None, 0),\n",
       " (23, 'Diverted', 'varchar(1)', 0, None, 0),\n",
       " (24, 'CarrierDelay', 'int', 0, None, 0),\n",
       " (25, 'WeatherDelay', 'int', 0, None, 0),\n",
       " (26, 'NASDelay', 'int', 0, None, 0),\n",
       " (27, 'SecurityDelay', 'int', 0, None, 0),\n",
       " (28, 'LateAircraftDelay', 'int', 0, None, 0)]"
      ]
     },
     "execution_count": 11,
     "metadata": {},
     "output_type": "execute_result"
    }
   ],
   "source": [
    "%sql PRAGMA table_info(ontime)"
   ]
  },
  {
   "cell_type": "markdown",
   "metadata": {
    "deletable": true,
    "editable": true
   },
   "source": [
    "##### Pregunta 3: ¿Cuántos vuelos se encuentran registrados en la base de datos?\n",
    "\n",
    "*Nota*: Evite ejecutar el comando `SELECT * FROM ontime;`, ya que esto saturaría la memoria RAM del kernel de Python usado para *Jupyter Notebooks* al intentar cargar una tabla de ~7M registros.\n",
    "\n",
    "Inicie investigando la función SQL estándar `COUNT`: https://www.sqlite.org/lang_aggfunc.html#count\n",
    "\n",
    "Escriba el query necesario para contar la cantidad de tuplas de la tabla (_relación_) `ontime`:"
   ]
  },
  {
   "cell_type": "code",
   "execution_count": 12,
   "metadata": {
    "collapsed": false,
    "deletable": true,
    "editable": true
   },
   "outputs": [
    {
     "name": "stdout",
     "output_type": "stream",
     "text": [
      " * sqlite:///flights.db\n",
      "   sqlite:///lab01.db\n",
      "Done.\n"
     ]
    },
    {
     "data": {
      "text/html": [
       "<table>\n",
       "    <tr>\n",
       "        <th>count(*)</th>\n",
       "    </tr>\n",
       "    <tr>\n",
       "        <td>7009728</td>\n",
       "    </tr>\n",
       "</table>"
      ],
      "text/plain": [
       "[(7009728,)]"
      ]
     },
     "execution_count": 12,
     "metadata": {},
     "output_type": "execute_result"
    }
   ],
   "source": [
    "%sql SELECT count(*) FROM ontime"
   ]
  },
  {
   "cell_type": "markdown",
   "metadata": {
    "deletable": true,
    "editable": true
   },
   "source": [
    "*Respuesta*: `7009728` vuelos"
   ]
  },
  {
   "cell_type": "markdown",
   "metadata": {
    "deletable": true,
    "editable": true
   },
   "source": [
    "##### Pregunta 4: ¿Cuántos aeropuertos se encuentran registrados en el estado de Nueva York?\n",
    "\n",
    "Para responder a esta tabla debemos referirnos a la segunda tabla del dataset, `airports`.\n",
    "\n",
    "Inicie investigando el esquema de la tabla `airport`. Luego determine el atributo sobre el que tiene que especificar la condición necesaria que indique si una tupla se encuentra registrada en el estado de Nueva York. Note que el dataset utiliza su código de estado, `'NY'`.\n",
    "\n",
    "Investigue la sintaxis de la clausula `WHERE` para una instrucción `SELECT` queries de una sola tabla: http://sqlitetutorials.com/sqlite-where.html\n",
    "\n",
    "Escriba un query que devuelva la cantidad de aeropuertos registrados en Nueva York:"
   ]
  },
  {
   "cell_type": "code",
   "execution_count": 13,
   "metadata": {
    "collapsed": false,
    "deletable": true,
    "editable": true
   },
   "outputs": [
    {
     "name": "stdout",
     "output_type": "stream",
     "text": [
      " * sqlite:///flights.db\n",
      "   sqlite:///lab01.db\n",
      "Done.\n"
     ]
    },
    {
     "data": {
      "text/html": [
       "<table>\n",
       "    <tr>\n",
       "        <th>COUNT(&quot;NY&quot;)</th>\n",
       "    </tr>\n",
       "    <tr>\n",
       "        <td>291</td>\n",
       "    </tr>\n",
       "</table>"
      ],
      "text/plain": [
       "[(291,)]"
      ]
     },
     "execution_count": 13,
     "metadata": {},
     "output_type": "execute_result"
    }
   ],
   "source": [
    "%sql SELECT COUNT(\"NY\") FROM airports WHERE state = \"NY\""
   ]
  },
  {
   "cell_type": "markdown",
   "metadata": {
    "deletable": true,
    "editable": true
   },
   "source": [
    "*Respuesta*: `291` aeropuertos"
   ]
  },
  {
   "cell_type": "markdown",
   "metadata": {
    "deletable": true,
    "editable": true
   },
   "source": [
    "##### Pregunta 5: ¿Cuántos vuelos se retrasaron más de una hora en salir?\n",
    "\n",
    "Inicie investigando qué campo le indica el tiempo de retraso de salida de un vuelo de acuerdo con la documentación del dataset, https://www.transtats.bts.gov/DL_SelectFields.asp?Table_ID=236\n",
    "\n",
    "A continuación escriba un query que devuelva la cantidad de vuelos que se trasaron más de una hora en salir:"
   ]
  },
  {
   "cell_type": "code",
   "execution_count": 14,
   "metadata": {
    "collapsed": false,
    "deletable": true,
    "editable": true
   },
   "outputs": [
    {
     "name": "stdout",
     "output_type": "stream",
     "text": [
      " * sqlite:///flights.db\n",
      "   sqlite:///lab01.db\n",
      "Done.\n"
     ]
    },
    {
     "data": {
      "text/html": [
       "<table>\n",
       "    <tr>\n",
       "        <th>COUNT(*)</th>\n",
       "    </tr>\n",
       "    <tr>\n",
       "        <td>552844</td>\n",
       "    </tr>\n",
       "</table>"
      ],
      "text/plain": [
       "[(552844,)]"
      ]
     },
     "execution_count": 14,
     "metadata": {},
     "output_type": "execute_result"
    }
   ],
   "source": [
    "%sql SELECT COUNT(*) FROM ontime WHERE DepDelay > 60"
   ]
  },
  {
   "cell_type": "markdown",
   "metadata": {
    "deletable": true,
    "editable": true
   },
   "source": [
    "*Respuesta*: `552,844` vuelos"
   ]
  },
  {
   "cell_type": "markdown",
   "metadata": {
    "deletable": true,
    "editable": true
   },
   "source": [
    "##### Pregunta 6: ¿Cuál fue el promedio de retraso en el tiempo de llegada (arrival time) de todos los vuelos registrados?\n",
    "\n",
    "Inicie investigando la función SQL estándar `AVG`.\n",
    "\n",
    "A continuación determine \n",
    "\n",
    "Finalmente escriba un query que muestre el promedio de retraso en el tiempo de llegada de todos los vuelos:"
   ]
  },
  {
   "cell_type": "code",
   "execution_count": 15,
   "metadata": {
    "collapsed": false,
    "deletable": true,
    "editable": true
   },
   "outputs": [
    {
     "name": "stdout",
     "output_type": "stream",
     "text": [
      " * sqlite:///flights.db\n",
      "   sqlite:///lab01.db\n",
      "Done.\n"
     ]
    },
    {
     "data": {
      "text/html": [
       "<table>\n",
       "    <tr>\n",
       "        <th>avg(ArrDelay)</th>\n",
       "    </tr>\n",
       "    <tr>\n",
       "        <td>7.9881812817844</td>\n",
       "    </tr>\n",
       "</table>"
      ],
      "text/plain": [
       "[(7.9881812817844,)]"
      ]
     },
     "execution_count": 15,
     "metadata": {},
     "output_type": "execute_result"
    }
   ],
   "source": [
    "%sql SELECT avg(ArrDelay) FROM ontime"
   ]
  },
  {
   "cell_type": "markdown",
   "metadata": {
    "deletable": true,
    "editable": true
   },
   "source": [
    "*Respuesta*: `7.988` minutos"
   ]
  },
  {
   "cell_type": "markdown",
   "metadata": {
    "deletable": true,
    "editable": true
   },
   "source": [
    "##### Pregunta 7: Escriba un query que muestre el promedio de retraso en el tiempo de llegada de todos los vuelos sin utilizar la función `AVG`\n",
    "\n",
    "Recuerde que un promedio consiste en la sumatoria de valores dividida dentro de la cantidad de valores de la sumatoria.\n",
    "\n",
    "Inicie investigando la función SQL estándar `SUM`.\n",
    "\n",
    "A continuación escriba un query que determine la sumatoria de retraso de tiempos de llegada de todos los vuelos\n",
    "\n",
    "Finalmente escriba un query que divida la sumatoria dentro de la cantidad de vuelos registrados:"
   ]
  },
  {
   "cell_type": "code",
   "execution_count": 16,
   "metadata": {
    "collapsed": false,
    "deletable": true,
    "editable": true
   },
   "outputs": [
    {
     "name": "stdout",
     "output_type": "stream",
     "text": [
      " * sqlite:///flights.db\n",
      "   sqlite:///lab01.db\n",
      "Done.\n"
     ]
    },
    {
     "data": {
      "text/html": [
       "<table>\n",
       "    <tr>\n",
       "        <th>SUM(ArrDelay)/(SELECT count(*) FROM ontime)</th>\n",
       "    </tr>\n",
       "    <tr>\n",
       "        <td>7.9881812817844</td>\n",
       "    </tr>\n",
       "</table>"
      ],
      "text/plain": [
       "[(7.9881812817844,)]"
      ]
     },
     "execution_count": 16,
     "metadata": {},
     "output_type": "execute_result"
    }
   ],
   "source": [
    "%sql SELECT SUM(ArrDelay)/(SELECT count(*) FROM ontime) FROM ontime"
   ]
  },
  {
   "cell_type": "markdown",
   "metadata": {
    "deletable": true,
    "editable": true
   },
   "source": [
    "La respuesta debe ser igual a la de la *Pregunta #5*"
   ]
  },
  {
   "cell_type": "code",
   "execution_count": 17,
   "metadata": {
    "collapsed": true,
    "deletable": true,
    "editable": true
   },
   "outputs": [],
   "source": []
  },
  {
   "cell_type": "code",
   "execution_count": null,
   "metadata": {
    "collapsed": true,
    "deletable": true,
    "editable": true
   },
   "outputs": [],
   "source": []
  },
  {
   "cell_type": "code",
   "execution_count": null,
   "metadata": {
    "collapsed": true,
    "deletable": true,
    "editable": true
   },
   "outputs": [],
   "source": []
  },
  {
   "cell_type": "code",
   "execution_count": null,
   "metadata": {
    "collapsed": true,
    "deletable": true,
    "editable": true
   },
   "outputs": [],
   "source": []
  }
 ],
 "metadata": {
  "kernelspec": {
   "display_name": "Python 3",
   "language": "python",
   "name": "python3"
  },
  "language_info": {
   "codemirror_mode": {
    "name": "ipython",
    "version": 3
   },
   "file_extension": ".py",
   "mimetype": "text/x-python",
   "name": "python",
   "nbconvert_exporter": "python",
   "pygments_lexer": "ipython3",
   "version": "3.6.4"
  }
 },
 "nbformat": 4,
 "nbformat_minor": 1
}
